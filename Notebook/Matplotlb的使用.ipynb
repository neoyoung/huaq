{
 "cells": [
  {
   "cell_type": "markdown",
   "id": "19a1c68c",
   "metadata": {},
   "source": [
    "- figure 画布\n",
    "\n",
    "- axes 坐标系，一个画布上可以有多个坐标系\n",
    "\n",
    "- axis 坐标轴，一个坐标系中可以有多个坐标轴，一般都是二维平面坐标系，或者三维立体坐标系\n",
    "\n",
    "- title 标题\n",
    "\n",
    "- legend 图例\n",
    "\n",
    "- grid 背景网格\n",
    "\n",
    "- tick 刻度\n",
    "\n",
    "- axis label 坐标轴名称\n",
    "\n",
    "- tick label 刻度名称\n",
    "\n",
    "- major tick label 主刻度标签\n",
    "\n",
    "- minor tick label 副刻度标签\n",
    "\n",
    "- line 线\n",
    "\n",
    "- style 线条样式\n",
    "\n",
    "- marker 点标记\n",
    "\n",
    "- font 字体相关\n",
    "\n"
   ]
  },
  {
   "cell_type": "markdown",
   "id": "8d66896d",
   "metadata": {},
   "source": [
    "# Matplotlib下面这些方法的区别是什么？"
   ]
  },
  {
   "cell_type": "code",
   "execution_count": null,
   "id": "3fb8b302",
   "metadata": {},
   "outputs": [],
   "source": [
    "plt.figure() \n",
    "plt.subplots() \n",
    "plt.subplot() \n",
    "\n",
    "fig.subplots() \n",
    "fig.add_subplot()\n",
    "\n",
    "ax\n",
    "\n",
    "ax"
   ]
  },
  {
   "cell_type": "code",
   "execution_count": null,
   "id": "b354163d",
   "metadata": {},
   "outputs": [],
   "source": []
  },
  {
   "cell_type": "code",
   "execution_count": null,
   "id": "7b7bb2e9",
   "metadata": {},
   "outputs": [],
   "source": [
    "# 保存图片的参数选择项\n",
    "matplotlib.pyplot.savefig(fname, dpi=None, facecolor='w', edgecolor='w',\n",
    "                    orientation='portrait', papertype=None, format=None,\n",
    "                    transparent=False, bbox_inches=None, pad_inches=0.1,\n",
    "                    frameon=None, metadata=None)\n",
    "\n",
    "plt.savefig(fname, dpi=None, facecolor='w', edgecolor='w',\n",
    "                    orientation='portrait', papertype=None, format=None,\n",
    "                    transparent=False, bbox_inches=None, pad_inches=0.1,\n",
    "                    frameon=None, metadata=None)"
   ]
  },
  {
   "cell_type": "code",
   "execution_count": null,
   "id": "865116da",
   "metadata": {},
   "outputs": [],
   "source": [
    "'''\n",
    "    输出图像文件的大小由图形尺寸和DPI直接决定，画布尺寸越大，DPI越高，保存的图像文件就越大。\n",
    "·fname：输出(路径)文件名\n",
    "    字符串或者文件对象。如不含路径，默认输出至当前工作路径（console working dictionary或py脚本所在目录）。如果format关键字未指定，以文件名的扩展名为输出格式。如果没有扩展名，默认输出.png图片。如果指定format类型，以format输出。\n",
    "    对于后端输出，可以输出一个对象，比如matplotlib.backends.backend_pdf.PdfPages。\n",
    "·dpi：Dots Per Inch图片的分辨率\n",
    "    如果此处未指定，则采用画布figure的分辨率。对于位图有意义，无法作用于矢量图格式。\n",
    "·quality：图片质量\n",
    "    1-100的标量。1为最差，95为最好。仅当格式为jpg或jpeg时才适用，否则忽略。如果没有，则默认为rcParams['savefig.jpeg_quality']（默认值：95）。应避免大于95的值；100完全禁用JPEG量化阶段。\n",
    "·optimize：最优化\n",
    "    布尔型。如果为True，则表示JPEG编码器应在图像上进行额外传递，以便选择最佳编码器设置。仅当格式为jpg或jpeg时才适用，否则忽略。默认情况下为False。\n",
    "·progressive：渐进式\n",
    "    布尔型。如果为True，则指示此图像应该作为渐进的JPEG文件存储。仅当格式为jpg或jpeg时才适用，否则忽略。默认情况下为False。\n",
    "·facecolorcolor：背景色\n",
    "    图形的背景色；如果没有，则默认为rcParams['savefig.facecolor']（默认值：'white'）。\n",
    "·edgecolorcolor：边框色\n",
    "    图形的边框色；如果没有，则默认为rcParams['savefig.edgecolor']（默认值：'white'） \n",
    "·orientation：方向\n",
    "    可赋值横向、竖向，{'landscape', 'portrait'}，当前仅由postscript后端支持。\n",
    "·papertype：纸张类型\n",
    "    'letter'、'legal'、'executive'、'ledger'、'a0'到'a10'、'b0'到'b10'之一。仅支持postscript输出。\n",
    "·format：文件格式\n",
    "    可取值为'eps','pdf','ps','pgf','svg','png','raw','rgba','svgz'。支持的这些图片格式，既有位图也有矢量图，能满足不同方面的需求，也保证了图片质量以达到更高的出版标准。\n",
    "    默认情况下对于JPEG格式，仅支持后端输出，不支持前端保存。如果确需输出保存为JPEG格式，可以提前使用pip安装pillow库再运行代码。也可使用PIL的Image模块对已经输出的png进行转存。\n",
    "·transparent：透明度\n",
    "    布尔型。如果为True，则绘图区将全部透明；画布背景也将透明，除非已经指定facecolor和/或edgecolor。例如，这对于在网页的彩色背景上显示绘图非常有用。\n",
    "·bbox_inches：边框的大小\n",
    "    绘图区axes周围的区域宽度，取值为'tight'可以使白边变为最窄，与pad_inches（默认为0.1英寸）配合使用。如果没有，请使用savefig.bbox，赋值一个Bbox对象。\n",
    "·pad_inches：填充\n",
    "    数字型。当bbox_inches为'tight'时，图片周围的填充量。如果没有，请使用savefig.pad_inches。\n",
    "·pil_kwargs：PIL参数\n",
    "    字典，保存图形时传递给PIL.Image.save的其他关键字参数。仅适用于使用Pillow保存的格式，即JPEG、TIFF和（如果关键字设置为非“无”值）PNG。\n",
    "'''"
   ]
  },
  {
   "cell_type": "code",
   "execution_count": null,
   "id": "17b401e1",
   "metadata": {},
   "outputs": [],
   "source": [
    "# 标题常用参数\n",
    "plt.title('a',loc='left',bbox=dict(facecolor='g', alpha=0.65 ))\n",
    "'''\n",
    "·  fontsize：设置字体大小，可为数字，默认12。可选值'xx-small','x-small','small','medium','large','x-large','xx-large'。\n",
    "·  fontweight设置字体粗细，可为数字，可选值'light', 'normal', 'medium', 'semibold', 'bold', 'heavy', 'black'。\n",
    "·  fontstyle：设置字体类型，可选值'normal'，'italic'斜体，'oblique'倾斜。\n",
    "·  verticalalignment：简写为va,设置水平对齐方式可选值'center','top','bottom','baseline'。\n",
    "·  horizontalalignment：简写为ha，设置垂直对齐方式，可选值'left','right','center'。\n",
    "·  loc：位置，默认为'center'，可选'left'，'right'。\n",
    "·  pad：与绘图区框线边距，浮点数。\n",
    "·  rotation：旋转角度，可选值为'vertical','horizontal'，也可以为数字。\n",
    "·  alpha：透明度，数字型，取值范围0至1之间。\n",
    "·  backgroundcolor：标题背景颜色\n",
    "·  bbox：给标题增加外框 ，常用参数如下：\n",
    "·  boxstyle：外框线线型。默认为'Square',可取值为'Circle','DArrow','LArrow ','RArrow','Round','Round4','Roundtooth','Sawtooth'。\n",
    "·  facecolor：简写fc，外框填充颜色。\n",
    "·  edgecolor：简写ec，外框边框线条颜色。\n",
    "'''"
   ]
  },
  {
   "cell_type": "code",
   "execution_count": null,
   "id": "482d10e2",
   "metadata": {},
   "outputs": [],
   "source": [
    "# 图例常用参数\n",
    "matplotlib.pyplot.legend()\n",
    "'''\n",
    "    frameon     True/False；是否显示图例底框\n",
    "    framealpha       0-1.0；图例底框的透明度\n",
    "    facecolor      颜色类；图例底框的背景色\n",
    "    edgecolor      颜色类；底框边框的颜色\n",
    "    shadow     True/False；图例底框阴影\n",
    "    ncol            整数；图例列数，当图例较多时可分多列显示\n",
    "    handlelength  浮点数；图例的长度\n",
    "    fontsize       整数；图例说明的字号\n",
    "    title         字符串；图例的标题\n",
    "    labelspacing 浮点数；图例之间的间隔\n",
    "'''\n"
   ]
  },
  {
   "cell_type": "code",
   "execution_count": null,
   "id": "68d9cdd5",
   "metadata": {},
   "outputs": [],
   "source": [
    "# 条形图属性设置\n",
    "\n",
    "matplotlib.pyplot.bar(x,height,width=0.8,bottom=None,align='center',data=None,…)\n",
    "'''\n",
    "    x     ：一个标量序列，作为条形图的X轴。\n",
    "    height：标量或标量序列，作为条形的高度。\n",
    "    width ：单个条形的宽度，默认0.8。\n",
    "    bottom：y轴的起始坐标，默认是0。\n",
    "    align ：对齐，默认'center'居中，即条形中间位置对应x坐标刻度。'edge'为条形左侧对应x坐标刻度。\n",
    "  **kwargs：其他参数。例如color、edgecolor、linewidth、tick_label、yerr等\n",
    "'''"
   ]
  },
  {
   "cell_type": "code",
   "execution_count": null,
   "id": "8d62fddd",
   "metadata": {},
   "outputs": [],
   "source": [
    "# 伪彩色\n",
    "ax.pcolormesh(lon,lat,tmp,transform=proj,cmap='jet',alpha=0.8)"
   ]
  },
  {
   "cell_type": "markdown",
   "id": "205a959d",
   "metadata": {},
   "source": [
    "##### matplotlib.pyplot.contour([X, Y,] Z, [levels], **kwargs)常用的参数：\n",
    "\n",
    "'''\n",
    "  - [X, Y,] Z：在变量当中，tmp实际上已经是一个73×144的数组。在官方文档说明中，横纵坐标建议均为和tmp（N，M）d(lon,lat)即可创建网格化的横纵坐标网lons,lats，传递进contour(lons,lat,tmp)。也可为一维数组，横轴lon的长度为N，纵轴lat的长度为M。这两种方法绘制结果相同。如果不传递lon和lat，直接使用contour(tmp)也可绘制相同的图形，但横纵坐标均会变成维度的索引（0-144,0-73），而不是之前的（0~360°，-90~90°）。\n",
    "  - colors：线条颜色\n",
    "  - levels：整数n或类似数组。决定绘制线条的数量n，或者决定分析线条的值。等值线分析间隔，或者说分析值序列应当尽量遵循业务规范，或者根据实际情况按照科学分析常用的1、2、4、5、8、10、100……作为间隔。\n",
    "  - cmap：当colors未被指定时。采用默认或指定的色彩映射colormap，绘制彩色的等值线。默认colormap为'viridis'。与色彩映射有关的参数norm、vmin、vmax将在5.2.3中详细讲解。\n",
    "'''\n",
    "\n",
    "##### matplotlib.pyplot.clabel(**kwargs)：\n",
    "'''\n",
    "  - CS：绘制等值线的返回值ContourSet\n",
    "  - levels：需要标注的值，必须是cs.levls的子集或全集。如果未被定义，则全部标注。\n",
    "  - fontsize：数字字号。或者表示相对字号的字符串：'xx-small', 'x-small', 'small', 'medium', 'large', 'x-large', 'xx-large'。\n",
    "  - colors：默认为对应的等值线颜色。也可统一颜色。\n",
    "  - inline：默认嵌入，对应标注位置的下层的等值线会被清除。\n",
    "  - inline_spacing：标注嵌入的宽度（像素），默认为5。这种间距对于等高线笔直的位置的标签是准确的，对于曲线等高线上的标签则更少。\n",
    "  - fmt：格式说明符，默认是'%1.3f'。\n",
    "  - manual：当为True是，在可交互界面（如IDLE编辑器）中，可以在需要添加标注的等值线位置单击鼠标左键，则添加对应等值线的标注。单击鼠标中键结束。\n",
    "  - rightside_up：默认为True，标注始终为正向。\n",
    "  - use_clabeltext：如果为True，则使用ClabelText类（而不是Text）创建标签。ClabelText在绘图期间重新计算文本的旋转角度，因此，如果绘图区的角度发生变化，则可以使用此功能。默认值为False。"
   ]
  },
  {
   "cell_type": "markdown",
   "id": "91f75f3d",
   "metadata": {},
   "source": [
    "# 参数化设置画图\n",
    "\n",
    "# 常用参数设置\n",
    "\n",
    "\n",
    "# colorbar常用参数设置"
   ]
  },
  {
   "cell_type": "code",
   "execution_count": 3,
   "id": "9d2bde60",
   "metadata": {},
   "outputs": [
    {
     "data": {
      "text/plain": [
       "<matplotlib.colors.ListedColormap at 0x1da55141cd0>"
      ]
     },
     "execution_count": 3,
     "metadata": {},
     "output_type": "execute_result"
    }
   ],
   "source": [
    "import numpy as np\n",
    "import matplotlib.pyplot as plt\n",
    "from matplotlib import cm\n",
    "from matplotlib.colors import ListedColormap, LinearSegmentedColormap\n",
    "\n",
    "viridis = cm.get_cmap('viridis', 8)\n",
    "viridis"
   ]
  },
  {
   "cell_type": "code",
   "execution_count": 2,
   "id": "d648b933",
   "metadata": {},
   "outputs": [
    {
     "data": {
      "text/plain": [
       "<matplotlib.colors.ListedColormap at 0x1da54100100>"
      ]
     },
     "execution_count": 2,
     "metadata": {},
     "output_type": "execute_result"
    }
   ],
   "source": [
    "viridis"
   ]
  },
  {
   "cell_type": "code",
   "execution_count": 4,
   "id": "66408ad7",
   "metadata": {},
   "outputs": [
    {
     "data": {
      "text/plain": [
       "<matplotlib.colors.ListedColormap at 0x1da541139d0>"
      ]
     },
     "execution_count": 4,
     "metadata": {},
     "output_type": "execute_result"
    }
   ],
   "source": [
    "import matplotlib.colors as colors\n",
    "cdict = ['#A6F28F', '#3DBA3D', '#61B8FF', '#0000FF', '#FA00FA', '#800040']#自定义颜色列表\n",
    "my_cmap=colors.ListedColormap(cdict)#自定义颜色映射color-map\n",
    "my_cmap"
   ]
  },
  {
   "cell_type": "markdown",
   "id": "c152ca46",
   "metadata": {},
   "source": [
    "# 风场"
   ]
  },
  {
   "cell_type": "code",
   "execution_count": null,
   "id": "3ac6d2f9",
   "metadata": {},
   "outputs": [],
   "source": [
    "# 风羽\n",
    "ax.barbs(lons,lats,u, v, transform=proj,\n",
    "         linewidth=0.5,flagcolor='k',linestyle='-',length=5,\n",
    "         pivot='tip',barb_increments=dict(half=2, full=4, flag=20),\n",
    "         sizes=dict(spacing=0.15,height=0.5,width=0.12),\n",
    "         fill_empty=True,\n",
    "         flip_barb=False)\n",
    "    '''\n",
    "    [x,y,u,v]：即经度、纬度、u分量、v分量\n",
    "    pivot：中心点，绘制风羽的中心点，{'tip', 'middle'} ，默认为顶端。\n",
    "    barb_increments：风羽增量，默认为5,10,50,单位为节。字典型，这里定义half=2，full=4，flag=20，意味着半行代表2m/s，整行4m/s，三角形20m/s\n",
    "    sizes：风羽的大小，字典值，风羽之间的间隔、高度、宽度。\n",
    "    fill_empty：当风速不足2m/s时，在该点位置绘制空心圆。如果为False，该点视作无数据（透明）。\n",
    "    flip_barb：翻转风羽，当绘制南半球风场时使用。\n",
    "    barbcolor：风羽的颜色。\n",
    "    flagcolor：三角形的颜色。\n",
    "    '''"
   ]
  },
  {
   "cell_type": "code",
   "execution_count": null,
   "id": "6629739c",
   "metadata": {},
   "outputs": [],
   "source": [
    "# #绘制风场（流线）\n",
    "plt.streamplot(lon,lat,u.data,v.data,density=1,\n",
    "              linewidth=np.sqrt(u.data**2,v.data**2)*0.2,\n",
    "              color=u.data,cmap='autumn',\n",
    "              arrowsize=1, arrowstyle='-|>',transform=proj)  \n",
    "# #绘制风场（风矢）\n",
    "uv=plt.quiver(lon[::2],lat[::2],u.data[::2,::2],v.data[::2,::2],\n",
    "              color='k',units='dots',scale=0.5, regrid_shape=20,transform=proj)\n",
    "plt.quiverkey(uv, 0.93,0.93, 20,color='r',\n",
    "            label='20m/s', labelpos='S',transform=proj)"
   ]
  },
  {
   "cell_type": "code",
   "execution_count": null,
   "id": "309dd374",
   "metadata": {},
   "outputs": [],
   "source": [
    "import numpy as np\n",
    "import pandas as pd\n",
    "import matplotlib.pyplot as plt\n",
    "  \n",
    "# 计算x,y坐标对应的高度值\n",
    "def f(x, y):\n",
    " return (1-x/2+x**3+y**5) * np.exp(-x**2-y**2)\n",
    " \n",
    "# 生成x,y的数据\n",
    "n = 256\n",
    "x = np.linspace(-3, 3, n)\n",
    "y = np.linspace(-3, 3, n)\n",
    " \n",
    "# 把x,y数据生成mesh网格状的数据，因为等高线的显示是在网格的基础上添加上高度值\n",
    "X, Y = np.meshgrid(x, y)\n",
    " \n",
    "# 填充等高线\n",
    "plt.contourf(X, Y, f(X, Y))\n",
    "# 显示图表\n",
    "plt.show()\n",
    "\n",
    "# cp=ax.contourf(lon,lat,ws[i,0,::],zorder=0,transform=ccrs.PlateCarree(),cmap=cmap,levels=levels,extend='both')"
   ]
  },
  {
   "cell_type": "code",
   "execution_count": null,
   "id": "26a21c66",
   "metadata": {},
   "outputs": [],
   "source": []
  },
  {
   "cell_type": "code",
   "execution_count": null,
   "id": "bff54dee",
   "metadata": {},
   "outputs": [],
   "source": [
    "contour\n",
    "contourf   \n",
    "\n",
    "00:21  数据准备 Data for contour plot\n",
    "00:55  制造二维数组 How to get 2D array\n",
    "02:00  绘制等高线图 About the contour\n",
    "02:29  设置颜色Set colors\n",
    "02:52  设置线宽 Set linewidth\n",
    "02:59  添加数值标签 Add text labels\n",
    "       设置数值格式，字号，颜色 Set value format, font size, colors\n",
    "04:22  设置颜色梯度（色图） Set colormap\n",
    "        逆向颜色梯度 Reverse the colormap\n",
    "05:32  绘制等高线填充图 About the contourf\n",
    "05:54  设置颜色图例 About the colorbar\n",
    "06:24  设置方向 Set orientation\n",
    "06:42  设置刻度值 Set ticks\n",
    "07:30  易错：图例添加的时机 Attention: one possible reason of wrong colorbar\n",
    "09:45  设置图例数值范围 Set colorbar range by setting levels\n",
    "10:55  在等高线填充图图例中添加等高线图例 How to add contour lines in a colorbar of contourf\n",
    "11:21  添加文字标签 Add title label for colorbar\n",
    "\n",
    "08:39  设置梯度 About the levels\n",
    "08:47  设置总共几层梯度 Set how many levels we want\n",
    "09:16  设置每层的数值 Set exact value of each level\n",
    "09:47  绘制空层 How to draw hollow regions\n",
    "10:16  高亮某层 How to highlight a level\n",
    "       用等高线填充图with contourf \n",
    "       用等高线图with contour\n",
    "11:54  实例：红白蓝色图的应用 eg: How to use bwr colormap\n",
    "  如何保证0值与白色对应 How to make zeros shown as white"
   ]
  },
  {
   "cell_type": "code",
   "execution_count": null,
   "id": "4e41043f",
   "metadata": {},
   "outputs": [],
   "source": []
  },
  {
   "cell_type": "code",
   "execution_count": null,
   "id": "0924fd2e",
   "metadata": {},
   "outputs": [],
   "source": []
  }
 ],
 "metadata": {
  "kernelspec": {
   "display_name": "Python 3",
   "language": "python",
   "name": "python3"
  },
  "language_info": {
   "codemirror_mode": {
    "name": "ipython",
    "version": 3
   },
   "file_extension": ".py",
   "mimetype": "text/x-python",
   "name": "python",
   "nbconvert_exporter": "python",
   "pygments_lexer": "ipython3",
   "version": "3.8.8"
  }
 },
 "nbformat": 4,
 "nbformat_minor": 5
}
