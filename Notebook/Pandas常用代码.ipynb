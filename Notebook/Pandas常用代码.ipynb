{
 "cells": [
  {
   "cell_type": "markdown",
   "id": "4644a6c6",
   "metadata": {},
   "source": [
    "# Pandas常用代码"
   ]
  },
  {
   "cell_type": "markdown",
   "id": "0dd0e361",
   "metadata": {},
   "source": [
    "## 读取txt文件，自己指定分隔符、列名"
   ]
  },
  {
   "cell_type": "code",
   "execution_count": null,
   "id": "07d27203",
   "metadata": {},
   "outputs": [],
   "source": [
    "fpath = \"test.txt\"\n",
    "text = pd.read_csv(\n",
    "    fpath,\n",
    "    sep=\"\\t\",\n",
    "    header=None,\n",
    "    names=['pdate', 'pv', 'uv']\n",
    ")\n",
    "text"
   ]
  },
  {
   "cell_type": "markdown",
   "id": "9f042abe",
   "metadata": {},
   "source": [
    "# 读取SQLite3数据库"
   ]
  },
  {
   "cell_type": "code",
   "execution_count": null,
   "id": "2ae08197",
   "metadata": {},
   "outputs": [],
   "source": [
    "import pandas as pd\n",
    "import sqlite3\n",
    "\n",
    "conn = sqlite3.connect('roadshow.sqlite3')\n",
    "df = pd.read_sql(\"select * from roadshow_sseinfo_com \",con=conn)\n",
    "df"
   ]
  },
  {
   "cell_type": "markdown",
   "id": "37f577f3",
   "metadata": {},
   "source": [
    "## 读取MySQL数据库"
   ]
  },
  {
   "cell_type": "code",
   "execution_count": 7,
   "id": "95a55c8d",
   "metadata": {},
   "outputs": [
    {
     "data": {
      "text/html": [
       "<div>\n",
       "<style scoped>\n",
       "    .dataframe tbody tr th:only-of-type {\n",
       "        vertical-align: middle;\n",
       "    }\n",
       "\n",
       "    .dataframe tbody tr th {\n",
       "        vertical-align: top;\n",
       "    }\n",
       "\n",
       "    .dataframe thead th {\n",
       "        text-align: right;\n",
       "    }\n",
       "</style>\n",
       "<table border=\"1\" class=\"dataframe\">\n",
       "  <thead>\n",
       "    <tr style=\"text-align: right;\">\n",
       "      <th></th>\n",
       "      <th>aid</th>\n",
       "      <th>doctype</th>\n",
       "      <th>doctitle</th>\n",
       "      <th>docdate</th>\n",
       "      <th>docpath</th>\n",
       "      <th>raw_url</th>\n",
       "    </tr>\n",
       "  </thead>\n",
       "  <tbody>\n",
       "    <tr>\n",
       "      <th>0</th>\n",
       "      <td>0001bdbb49ee3cfa23bc159582c85e2bcf3fb372</td>\n",
       "      <td>商用车联盟</td>\n",
       "      <td>初夏五月嗨GO季 买长安凯程送全额购置税</td>\n",
       "      <td>2021-05-17 17:51:16</td>\n",
       "      <td>www_qiche-china_com_news_content_id_101419_htm...</td>\n",
       "      <td>http://www.qiche-china.com/news/content/id/101...</td>\n",
       "    </tr>\n",
       "    <tr>\n",
       "      <th>1</th>\n",
       "      <td>0008e237d86b30e2716b103d07c0e4d50e2e19eb</td>\n",
       "      <td>中国能源网</td>\n",
       "      <td>外媒：沙特与阿联酋就石油增产政策达成妥协</td>\n",
       "      <td>2021-07-15 00:00:00</td>\n",
       "      <td>www_china5e_com_news_news-1118199-1_html.html</td>\n",
       "      <td>https://www.china5e.com/news/news-1118199-1.html</td>\n",
       "    </tr>\n",
       "    <tr>\n",
       "      <th>2</th>\n",
       "      <td>0016904f1eac0b7b3633d922bb9458b5942c76e8</td>\n",
       "      <td>国家发展和改革委员会</td>\n",
       "      <td>关于深入推进农业水价综合改革的通知(发改价格〔2021〕1017号)</td>\n",
       "      <td>2021-07-16 00:00:00</td>\n",
       "      <td>www_ndrc_gov_cn_xxgk_zcfb_tz_202107_t20210716_...</td>\n",
       "      <td>https://www.ndrc.gov.cn/xxgk/zcfb/tz/202107/t2...</td>\n",
       "    </tr>\n",
       "    <tr>\n",
       "      <th>3</th>\n",
       "      <td>0017eca60b7aae22ac388c9b5a667edb819b48cd</td>\n",
       "      <td>商用车联盟</td>\n",
       "      <td>品牌之路（三）纵横捭阖借东风，平步青云化乘龙</td>\n",
       "      <td>2021-08-12 15:21:00</td>\n",
       "      <td>www_qiche-china_com_news_content_id_101481_htm...</td>\n",
       "      <td>http://www.qiche-china.com/news/content/id/101...</td>\n",
       "    </tr>\n",
       "    <tr>\n",
       "      <th>4</th>\n",
       "      <td>0018b311afbef546aacd67fad77edd835fec2f17</td>\n",
       "      <td>商车帮</td>\n",
       "      <td>公安部：9月1日起天津等70个城市推行网上核发货车电子通行码</td>\n",
       "      <td>2021-08-20 14:15:43</td>\n",
       "      <td>cvzone_com_cn_article_detail_id_9148.html</td>\n",
       "      <td>https://cvzone.com.cn/article/detail/id/9148</td>\n",
       "    </tr>\n",
       "  </tbody>\n",
       "</table>\n",
       "</div>"
      ],
      "text/plain": [
       "                                        aid     doctype  \\\n",
       "0  0001bdbb49ee3cfa23bc159582c85e2bcf3fb372       商用车联盟   \n",
       "1  0008e237d86b30e2716b103d07c0e4d50e2e19eb       中国能源网   \n",
       "2  0016904f1eac0b7b3633d922bb9458b5942c76e8  国家发展和改革委员会   \n",
       "3  0017eca60b7aae22ac388c9b5a667edb819b48cd       商用车联盟   \n",
       "4  0018b311afbef546aacd67fad77edd835fec2f17         商车帮   \n",
       "\n",
       "                             doctitle             docdate  \\\n",
       "0                初夏五月嗨GO季 买长安凯程送全额购置税 2021-05-17 17:51:16   \n",
       "1                外媒：沙特与阿联酋就石油增产政策达成妥协 2021-07-15 00:00:00   \n",
       "2  关于深入推进农业水价综合改革的通知(发改价格〔2021〕1017号) 2021-07-16 00:00:00   \n",
       "3              品牌之路（三）纵横捭阖借东风，平步青云化乘龙 2021-08-12 15:21:00   \n",
       "4      公安部：9月1日起天津等70个城市推行网上核发货车电子通行码 2021-08-20 14:15:43   \n",
       "\n",
       "                                             docpath  \\\n",
       "0  www_qiche-china_com_news_content_id_101419_htm...   \n",
       "1      www_china5e_com_news_news-1118199-1_html.html   \n",
       "2  www_ndrc_gov_cn_xxgk_zcfb_tz_202107_t20210716_...   \n",
       "3  www_qiche-china_com_news_content_id_101481_htm...   \n",
       "4          cvzone_com_cn_article_detail_id_9148.html   \n",
       "\n",
       "                                             raw_url  \n",
       "0  http://www.qiche-china.com/news/content/id/101...  \n",
       "1   https://www.china5e.com/news/news-1118199-1.html  \n",
       "2  https://www.ndrc.gov.cn/xxgk/zcfb/tz/202107/t2...  \n",
       "3  http://www.qiche-china.com/news/content/id/101...  \n",
       "4       https://cvzone.com.cn/article/detail/id/9148  "
      ]
     },
     "execution_count": 7,
     "metadata": {},
     "output_type": "execute_result"
    }
   ],
   "source": [
    "import pymysql\n",
    "import pandas as pd\n",
    "\n",
    "conn = pymysql.connect(\n",
    "    host='127.0.0.1',\n",
    "    port=8023 ,\n",
    "    user='root',\n",
    "    password='password',\n",
    "    database='dfcv',\n",
    "    charset='utf8'\n",
    ")\n",
    "mysql_page = pd.read_sql(\"select * from spider_results limit 5\",con=conn)\n",
    "mysql_page"
   ]
  },
  {
   "cell_type": "markdown",
   "id": "7ece9892",
   "metadata": {},
   "source": [
    "## 使用字典创建Pandas 的Series数据"
   ]
  },
  {
   "cell_type": "code",
   "execution_count": 8,
   "id": "bc8ca281",
   "metadata": {},
   "outputs": [
    {
     "data": {
      "text/plain": [
       "Ohio      350\n",
       "Texas     720\n",
       "Oregon    160\n",
       "Utah      500\n",
       "dtype: int64"
      ]
     },
     "execution_count": 8,
     "metadata": {},
     "output_type": "execute_result"
    }
   ],
   "source": [
    "import numpy as np\n",
    "import pandas as pd\n",
    "\n",
    "sdata = {'Ohio':350,'Texas':720,'Oregon':160,'Utah':500}\n",
    "s3 = pd.Series(sdata)\n",
    "s3"
   ]
  },
  {
   "cell_type": "code",
   "execution_count": null,
   "id": "92415072",
   "metadata": {},
   "outputs": [],
   "source": []
  },
  {
   "cell_type": "code",
   "execution_count": null,
   "id": "d88aa147",
   "metadata": {},
   "outputs": [],
   "source": []
  },
  {
   "cell_type": "code",
   "execution_count": null,
   "id": "8a992305",
   "metadata": {},
   "outputs": [],
   "source": []
  },
  {
   "cell_type": "code",
   "execution_count": null,
   "id": "aa5c22b8",
   "metadata": {},
   "outputs": [],
   "source": []
  },
  {
   "cell_type": "code",
   "execution_count": null,
   "id": "61c32f4c",
   "metadata": {},
   "outputs": [],
   "source": []
  },
  {
   "cell_type": "code",
   "execution_count": null,
   "id": "59be1840",
   "metadata": {},
   "outputs": [],
   "source": []
  },
  {
   "cell_type": "code",
   "execution_count": null,
   "id": "c1bb4a20",
   "metadata": {},
   "outputs": [],
   "source": []
  },
  {
   "cell_type": "code",
   "execution_count": null,
   "id": "3931febc",
   "metadata": {},
   "outputs": [],
   "source": []
  },
  {
   "cell_type": "code",
   "execution_count": null,
   "id": "fe904f73",
   "metadata": {},
   "outputs": [],
   "source": []
  },
  {
   "cell_type": "code",
   "execution_count": null,
   "id": "b92a4c1e",
   "metadata": {},
   "outputs": [],
   "source": []
  },
  {
   "cell_type": "code",
   "execution_count": null,
   "id": "8b6ae534",
   "metadata": {},
   "outputs": [],
   "source": []
  },
  {
   "cell_type": "code",
   "execution_count": null,
   "id": "60ddd3ea",
   "metadata": {},
   "outputs": [],
   "source": []
  },
  {
   "cell_type": "code",
   "execution_count": null,
   "id": "75abc16a",
   "metadata": {},
   "outputs": [],
   "source": []
  },
  {
   "cell_type": "code",
   "execution_count": null,
   "id": "7e3fed7e",
   "metadata": {},
   "outputs": [],
   "source": []
  },
  {
   "cell_type": "code",
   "execution_count": null,
   "id": "c1156853",
   "metadata": {},
   "outputs": [],
   "source": []
  },
  {
   "cell_type": "code",
   "execution_count": null,
   "id": "67d2679f",
   "metadata": {},
   "outputs": [],
   "source": []
  },
  {
   "cell_type": "code",
   "execution_count": null,
   "id": "1a0cb011",
   "metadata": {},
   "outputs": [],
   "source": []
  },
  {
   "cell_type": "code",
   "execution_count": null,
   "id": "b8efc768",
   "metadata": {},
   "outputs": [],
   "source": []
  },
  {
   "cell_type": "code",
   "execution_count": null,
   "id": "b4e5862c",
   "metadata": {},
   "outputs": [],
   "source": []
  }
 ],
 "metadata": {
  "kernelspec": {
   "display_name": "Python 3 (ipykernel)",
   "language": "python",
   "name": "python3"
  },
  "language_info": {
   "codemirror_mode": {
    "name": "ipython",
    "version": 3
   },
   "file_extension": ".py",
   "mimetype": "text/x-python",
   "name": "python",
   "nbconvert_exporter": "python",
   "pygments_lexer": "ipython3",
   "version": "3.9.12"
  }
 },
 "nbformat": 4,
 "nbformat_minor": 5
}
