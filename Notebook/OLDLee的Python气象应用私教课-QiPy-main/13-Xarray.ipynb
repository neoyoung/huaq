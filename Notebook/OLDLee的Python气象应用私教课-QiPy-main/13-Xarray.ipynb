{
 "cells": [
  {
   "cell_type": "markdown",
   "id": "0605238f-628a-4986-904f-8c3ddd1f990b",
   "metadata": {},
   "source": [
    "<font size=14>[**Xarray**](http://xarray.pydata.org/en/stable/)：**多维数组及数据集** </font>"
   ]
  },
  {
   "cell_type": "markdown",
   "id": "a3fa09ea-dde3-4ac1-bbba-1bf805d8604c",
   "metadata": {},
   "source": [
    "<div align=center><img src=\"pics/库层.png\" width=80%></div>\n",
    "\n",
    "---"
   ]
  },
  {
   "cell_type": "markdown",
   "id": "3f33bb2a-812a-4028-9a72-be8bb067555b",
   "metadata": {},
   "source": [
    "<img src=\"pics/xarray/Xarray-logo.png\" align=\"right\" width=40%>\n",
    "\n",
    "**Xarray（以前是xray）是一个开源项目和Python包，它使 <font color=Blue>标签多维数组操作 </font>变得简单、高效和有趣！**\n",
    "\n",
    "<font size=4>\n",
    "\n",
    "- 多维数组别称：tensors。应用领域广泛：物理、天文、地球科学、生物信息、工程、金融、深度学习……<br/>\n",
    "- Numpy提供了处理原始N-维数组的数据结构和API，但是现实世界中数据集不单单包含数字，他们有对应时空位置的标签。<br />Xarray在原始的 *类NumPy数组* 的维度Dimensions、坐标Coordinate和属性attributes的结构基础上引入<mark>**标签Label**</mark>，这带来更加直观、更简洁、更不易出错的开发体验。<br/>\n",
    "- Xarray受到了专注标签表格数据处理流行库Pandas的启发,包含一个大型的、不断增长的领域无关函数库，用于对上述数据结构的高级分析和可视化。<br/>    \n",
    "- 它特别适合于处理netCDF文件，netCDF文件是xarray数据模型的来源，并与dask紧密集成用于并行计算。<br/>    \n",
    "- 气象数据大都是多维数组，经度、纬度、高度（气压）、时间、要素，五个“维度”<br/>\n",
    "- 只是受限于认知方式、技术支持，绝大多数从二维去认知\n",
    "</font>"
   ]
  },
  {
   "cell_type": "markdown",
   "id": "e965f31b-a658-4e4e-9191-2962c6bf4077",
   "metadata": {},
   "source": [
    "---"
   ]
  },
  {
   "cell_type": "markdown",
   "id": "b04f290d-907a-4f66-b68d-a4add9e99ed2",
   "metadata": {},
   "source": [
    "# 术语"
   ]
  },
  {
   "cell_type": "markdown",
   "id": "11d867d9-135a-48f2-a826-c49305243851",
   "metadata": {
    "tags": []
   },
   "source": [
    "**label**\n",
    "标签，不仅仅是个“列名”那么简单。可以——<br/>\n",
    "- 以Python字典的形式跟踪任意元数据：x.attrs\n",
    "- 通过变量名操作多维数组，比如：x.sum('time')\n",
    "- <mark>**通过标签而不是位置选中值：x.loc['2014-01-01'] 或 x.sel(time='2014-01-01')**</mark>再也不用数第几层、第几个时次了\n",
    "- 基于维度名称而不是形状在多维数组上进行数学运算矢量化\n",
    "- 灵活的 groupby split-apply-combine 操作：x.groupby('time.dayofyear').mean()\n",
    "- 基于坐标标签的数据库（例如 alignment），可以平滑地处理缺失值：x, y = xr.align(x, y, join='outer')\n",
    "\n",
    "**dimension：**\n",
    "在数学中，数据的维数松散地表示为数据的自由度。尺寸轴是所有点的集合，其中除一个自由度外，所有自由度都是固定的。我们可以认为每个维度轴都有一个名称，例如“x维度”。在xarray中，DataArray对象的维度是其命名的维度轴，第i个维度的名称是arr.dims[i]。如果创建的数组没有维度名称，则默认维度名称为dim_0、dim_1，依此类推。\n",
    "\n",
    "**coordinate：**\n",
    "为另一个DataArray的维度或维度集添加标签的数组。在通常的一维情况下，坐标数组的值可以松散地看作是沿维度的记号标签。坐标数组有两种类型：尺寸坐标和非尺寸坐标（见下文）。可以从arr.coords[x]检索名为x的坐标。一个DataArray可以有比维度更多的坐标，因为一个维度可以被多个坐标数组标记。但是，只能将一个坐标数组\n",
    "指定为特定标注的标注坐标数组。\n",
    "\n",
    "**index：**\n",
    "索引是一种为有效地选择和切片关联数组而优化的数据结构。Xarray为维度坐标创建索引，这样沿着维度的操作速度很快，而非维度坐标则不会被索引。\n",
    "\n",
    "**Variable：**\n",
    "一种类似NetCDF的变量，由描述单个数组的维度、数据和属性组成。变量与numpy数组在功能上的主要区别在于对变量的数值运算实现了按维度名称的数组广播。每个DataArray都有一个可以通过arr.variable访问的基础变量。"
   ]
  },
  {
   "cell_type": "markdown",
   "id": "b86f061b-1a1e-4307-ae53-7b1781d2606a",
   "metadata": {
    "tags": []
   },
   "source": [
    "# **核心数据结构**\n",
    "- xarray 有两种基础的数据结构:\n",
    "\n",
    "  - `DataArray`, 存储单多维变量和它的坐标\n",
    "  - `Dataset`, 存储多变量，一般变量之间共享同样的坐标\n",
    "  \n",
    "<img src=\"pics/xarray-data-structures.png\" align=\"center\" width=\"50%\">\n",
    "\n",
    "---"
   ]
  },
  {
   "cell_type": "markdown",
   "id": "73c923ee-c039-429d-928c-60c655e88920",
   "metadata": {
    "tags": []
   },
   "source": [
    "## 从netCDF文件中载入数据\n",
    "- NetCDF (network Common Data Form) 是存储多维数据的格式。[了解更多](https://www.unidata.ucar.edu/software/netcdf/docs/faq.html#whatisit)\n",
    "- NetCDF 自描述，包含数据的信息和必要的元数据例如使用的坐标、数据的属性。\n",
    "- NetCDF 在地球科学界得到了广泛的应用。\n",
    "- Xarray 的接口主要基于netCDF数据模型。"
   ]
  },
  {
   "cell_type": "code",
   "execution_count": null,
   "id": "bc885584-2ca8-4dc5-9a09-5562da375edd",
   "metadata": {
    "tags": []
   },
   "outputs": [],
   "source": [
    "import xarray as xr\n",
    "import matplotlib.pyplot as plt\n",
    "import numpy as np\n",
    "%matplotlib inline"
   ]
  },
  {
   "cell_type": "code",
   "execution_count": null,
   "id": "dbf9de51-4473-458d-8906-099f626ae06a",
   "metadata": {
    "tags": []
   },
   "outputs": [],
   "source": [
    "# 打开ECMWF EAR5月平均数据，文件格式为netCDF4\n",
    "ds = xr.open_dataset(\"data/ERA5monthlyAveraged.nc\")#, engine=\"netcdf4\")\n",
    "#xr.open_mfdataset('my/files/*.nc', parallel=True)\n",
    "# Xarray的描述（HTML形式）\n",
    "ds"
   ]
  },
  {
   "cell_type": "markdown",
   "id": "72701761-5d7d-4935-8ae6-3610cbfb3abb",
   "metadata": {
    "tags": []
   },
   "source": [
    "<img src=\"pics/xarray/dataset-diagram.png\" width=700/>\n",
    "\n",
    "在本例中，将温度和降水量称为“数据变量”，将所有其他数组称为“坐标变量”，这是很自然的，因为它们标记了沿维度的点"
   ]
  },
  {
   "cell_type": "code",
   "execution_count": null,
   "id": "02f7c70e-9e1b-4629-8ede-5dc9c9898acc",
   "metadata": {
    "tags": []
   },
   "outputs": [],
   "source": [
    "#文本形式呈现Xarray的描述信息\n",
    "xr.set_options(display_style=\"text\")\n",
    "ds"
   ]
  },
  {
   "cell_type": "code",
   "execution_count": null,
   "id": "19b2ecfa-7994-4c04-892b-c43616e6f8b1",
   "metadata": {
    "tags": []
   },
   "outputs": [],
   "source": [
    "#netCDF 形式信息\n",
    "ds.info()"
   ]
  },
  {
   "cell_type": "markdown",
   "id": "85edcdd3-1189-4d2e-bf3b-f37b7a77df0e",
   "metadata": {},
   "source": [
    "## ` Dataset `\n",
    "\n",
    "- Xarray的 `Dataset` 可以看做是标签数组（`DataArrays`）维度对齐后的类字典容器。\n",
    "- 异构数据，不同类型，甚至不同维度数。\n",
    "- 除了数据集本身类似dict的接口之外，它还可以用来访问`Dataset`中的任何`DataArray`。\n",
    "- Dataset可以简单的理解为由多个DataArray组成的集合，具有以下关键属性：\n",
    "\n",
    "    \n",
    "|  属性       | 描述                                                                                  |\n",
    "| ----------- | -------------------------------------------------------------------------------------|\n",
    "| `data_vars` | 与数据变量相对应的`DataArray`对象的顺序字典OrderedDict。                                |\n",
    "| `dims`      | 从维度名称到每个维度固定长度的字典映射（例如： {`lat`: 6, `lon`: 6, `time`: 8}）。        |\n",
    "| `coords`    | 一种类似dict的数组（坐标）容器，用于标记每个点（例如，数字、datetime对象或字符串的一维数组  |\n",
    "| `attrs`     | OrderedDict保存与数据集相关的任意元数据。                                               |\n",
    "| `var_name`  | 获取变量                                               |  \n"
   ]
  },
  {
   "cell_type": "code",
   "execution_count": null,
   "id": "cc8c68d6-c7bb-4390-ac54-64d04d7a802e",
   "metadata": {
    "tags": []
   },
   "outputs": [],
   "source": [
    "# Dataset当中的变量variable\n",
    "ds.data_vars"
   ]
  },
  {
   "cell_type": "code",
   "execution_count": null,
   "id": "ae9e98e7-893d-448e-b98b-3ba1e49a7505",
   "metadata": {
    "tags": []
   },
   "outputs": [],
   "source": [
    "# Dataset的全局属性\n",
    "ds.attrs"
   ]
  },
  {
   "cell_type": "code",
   "execution_count": null,
   "id": "2b03b446-847f-49be-b915-aacb94defe79",
   "metadata": {
    "tags": []
   },
   "outputs": [],
   "source": [
    "# dataset坐标\n",
    "ds.coords#['time']#.shape"
   ]
  },
  {
   "cell_type": "code",
   "execution_count": null,
   "id": "7a38a8d3-9498-47c9-9cc6-25f296a0a8e5",
   "metadata": {},
   "outputs": [],
   "source": [
    "ds.keys"
   ]
  },
  {
   "cell_type": "code",
   "execution_count": null,
   "id": "36663611-3f3d-4f7c-8c7f-af3dc82c7b09",
   "metadata": {
    "tags": []
   },
   "outputs": [],
   "source": [
    "ds.t.longitude"
   ]
  },
  {
   "cell_type": "raw",
   "id": "3f7bb13b-5503-4588-825a-634691b0f95f",
   "metadata": {
    "tags": []
   },
   "source": [
    "注意维度的顺序自下而上 最外层time  第二层level  第三层latitude  最底层longitude\n",
    "换言之：存储数据，从70°N的70-20.25……150\n",
    "            进而69.75°N的70-20.25……150\n",
    "                 ……  ……  ……  ……\n",
    "                    0°的70-20.25……150    100hPa存完\n",
    "                                         200hPa存完\n",
    "                                           ……  ……\n",
    "                                         1000hPa存完    2011年1月存完\n",
    "                                                        2011年2月存完\n",
    "                                                         ……  ……  ……\n",
    "                                                       2020年12月存完"
   ]
  },
  {
   "cell_type": "code",
   "execution_count": null,
   "id": "a0f732ad-ccb9-4ec2-83fa-d72a0f66dd21",
   "metadata": {
    "tags": []
   },
   "outputs": [],
   "source": [
    "# 变量的选择方式 1   dict-like\n",
    "ds[\"t\"]"
   ]
  },
  {
   "cell_type": "code",
   "execution_count": null,
   "id": "8346aecc-2465-48a7-8f9c-9a4ecb685c8c",
   "metadata": {
    "tags": []
   },
   "outputs": [],
   "source": [
    "# 变量的选择方式 2   dict-like\n",
    "ds.t"
   ]
  },
  {
   "cell_type": "code",
   "execution_count": null,
   "id": "dfa9f999-a5cf-413a-9008-38241374fdcc",
   "metadata": {
    "tags": []
   },
   "outputs": [],
   "source": [
    "# 删除变量\n",
    "ds.drop_vars(\"r\")"
   ]
  },
  {
   "cell_type": "code",
   "execution_count": null,
   "id": "17b43217-e232-4dd6-98b8-c5ea79ea5f25",
   "metadata": {
    "tags": []
   },
   "outputs": [],
   "source": [
    "# 删除维度\n",
    "ds.drop_dims(\"time\")"
   ]
  },
  {
   "cell_type": "code",
   "execution_count": null,
   "id": "6bbb3272-7d7f-4501-8999-fb5ef606bd57",
   "metadata": {
    "tags": []
   },
   "outputs": [],
   "source": [
    "# 重命名变量。注意：需要重新赋值\n",
    "ds = ds.rename({\"t\": \"temp\", \"z\": \"hgt\"})"
   ]
  },
  {
   "cell_type": "code",
   "execution_count": null,
   "id": "be3652be-becb-4121-ac65-3b90c583af7e",
   "metadata": {
    "tags": []
   },
   "outputs": [],
   "source": [
    "ds"
   ]
  },
  {
   "cell_type": "code",
   "execution_count": null,
   "id": "5f64f4ce-2b05-4dbc-93ea-0ab55d1b16d5",
   "metadata": {
    "tags": []
   },
   "outputs": [],
   "source": [
    "# 分配/追加新变量\n",
    "ds=ds.assign(tempC=ds.temp-273.15)\n",
    "ds"
   ]
  },
  {
   "cell_type": "markdown",
   "id": "28a84e0f-af2f-4736-b78f-57d47a480229",
   "metadata": {},
   "source": [
    "100°E，850hPa纬向平均值 随时间的变化"
   ]
  },
  {
   "cell_type": "code",
   "execution_count": null,
   "id": "50d3007e-cc36-4e37-9f92-cfc67175067f",
   "metadata": {
    "tags": []
   },
   "outputs": [],
   "source": [
    "plt.plot((ds.tempC.sel(level=850,longitude=100.0)).mean(\"latitude\"))\n",
    "# (ds.tempC.sel(level=850,longitude=100.0)).mean(\"latitude\").plot.line()"
   ]
  },
  {
   "cell_type": "markdown",
   "id": "7b7d7960-e8d0-43b5-baec-888b68657140",
   "metadata": {},
   "source": [
    "2011年1月，850hPa上的，100-120°E均值随纬度的变化"
   ]
  },
  {
   "cell_type": "code",
   "execution_count": null,
   "id": "1e03a180-b220-4a05-87a5-41ca460b6bee",
   "metadata": {},
   "outputs": [],
   "source": [
    "(ds.tempC.sel(level=850,time='2011-01-01',longitude=np.arange(100,120,0.25))).groupby('latitude').mean(dim=\"longitude\").plot()"
   ]
  },
  {
   "cell_type": "markdown",
   "id": "e32989e3-b263-4e14-b26e-cd412f5f66f5",
   "metadata": {
    "tags": []
   },
   "source": [
    "## **DataArray**\n",
    "- 可以看作是pandas.Series的多维形式\n",
    "- 一个带有标签的多维数组，它有如下几个重要的属性\n",
    "\n",
    "\n",
    "| 属  性    | 描述                                                        |\n",
    "| --------- | ---------------------------------------------------------- |\n",
    "| `data`    | 用`numpy.ndarray` 或 `dask.array`承载数值                   |\n",
    "| `dims`    | 获取维度的名字，如(`x`, `y`, `z`) (`lat`, `lon`, `time`)。   |\n",
    "| `coords`  | 获取一个类似于字典的结果，里面包含各个坐标                     |\n",
    "| `attrs`   | 获取原始数据的属性，比如变量的名字、单位等                     |\n",
    "| `name`    | 数组的任意名称                                              |\n"
   ]
  },
  {
   "cell_type": "markdown",
   "id": "19001d9b-e1c1-49bb-81bb-257ad4fc38eb",
   "metadata": {
    "tags": []
   },
   "source": [
    "<img src=\"pics/xarray/dataset-diagram.png\" width=700/>\n",
    "\n",
    "↑↑↑↑↑↑↑↑↑↑↑↑↑↑↑↑↑↑↑↑↑↑↑↑↑↑↑↑  最左边这个“cube” .ie. ds.t"
   ]
  },
  {
   "cell_type": "markdown",
   "id": "a1f310ed-0e92-430c-ac9e-f3eaa8898977",
   "metadata": {},
   "source": [
    "<img src=\"pics/xarray/多维数组-T.png\" width=700/>"
   ]
  },
  {
   "cell_type": "code",
   "execution_count": null,
   "id": "b96154f8-ad5d-4009-b2d9-a1f1d0e0cfd4",
   "metadata": {
    "tags": []
   },
   "outputs": [],
   "source": [
    "da=ds.t\n",
    "da"
   ]
  },
  {
   "cell_type": "code",
   "execution_count": null,
   "id": "e0a4855a-be34-4c9b-8173-0d82da524532",
   "metadata": {
    "tags": []
   },
   "outputs": [],
   "source": [
    "# 获取数值，类型为ndarray\n",
    "da.values#da.data      type(ds.air.data)"
   ]
  },
  {
   "cell_type": "code",
   "execution_count": null,
   "id": "20beff52-1ff7-4829-ae0b-96dadb91d5aa",
   "metadata": {
    "tags": []
   },
   "outputs": [],
   "source": [
    "# 获取维度\n",
    "da.dims"
   ]
  },
  {
   "cell_type": "code",
   "execution_count": null,
   "id": "de6d5459-e207-442e-9d3b-3a51d760ac75",
   "metadata": {
    "tags": []
   },
   "outputs": [],
   "source": [
    "# 获取坐标\n",
    "da.coords"
   ]
  },
  {
   "cell_type": "code",
   "execution_count": null,
   "id": "8b053915-ee99-45bc-82aa-491fdf837e86",
   "metadata": {
    "tags": []
   },
   "outputs": [],
   "source": [
    "# 获取属性\n",
    "da.attrs"
   ]
  },
  {
   "cell_type": "code",
   "execution_count": null,
   "id": "0ce29121-868b-4240-9469-aaccf56dd8d2",
   "metadata": {
    "tags": []
   },
   "outputs": [],
   "source": [
    "# 获取变量名\n",
    "da.name"
   ]
  },
  {
   "cell_type": "markdown",
   "id": "7a5075a2-e043-4796-b3a0-a7fbbb3b51d9",
   "metadata": {},
   "source": [
    "# 切片与索引"
   ]
  },
  {
   "cell_type": "markdown",
   "id": "8b0a0cdd-7d13-42ef-8d64-4f46bc9199e0",
   "metadata": {},
   "source": [
    "## 转Numpy-位置索引"
   ]
  },
  {
   "cell_type": "code",
   "execution_count": null,
   "id": "29f348dc-6c90-4206-822e-ad54659f67f0",
   "metadata": {
    "tags": []
   },
   "outputs": [],
   "source": [
    "t = ds[\"t\"].data  # numpy array\n",
    "t"
   ]
  },
  {
   "cell_type": "code",
   "execution_count": null,
   "id": "d27300c3-5dbd-4f46-a351-b2e915c0ae2a",
   "metadata": {
    "tags": []
   },
   "outputs": [],
   "source": [
    "t.shape"
   ]
  },
  {
   "cell_type": "code",
   "execution_count": null,
   "id": "be3d2c1c-573f-4a90-8ced-6cba421e770a",
   "metadata": {
    "tags": []
   },
   "outputs": [],
   "source": [
    "# 输出空间（层次、纬度、经度）特定点的时间序列图\n",
    "# 物理/气象意义上：月平均温度随时间变化\n",
    "plt.plot(t[:, 6, 120, 200]-273.15)    #数学意义上 1st维度从头到尾， 2nd维度第7个  ，3rd维度第121个    ，4th纬度第201个\n",
    "                               #物理/气象意义上，2011.01-2020.12，第7层1000hPa   ，70-120*0.25=40°N ，70＋200*0.25=120°E"
   ]
  },
  {
   "cell_type": "markdown",
   "id": "f8e75313-8c46-4666-8d2a-3f7847f7ba53",
   "metadata": {},
   "source": [
    "## xarray索引\n",
    "\n",
    "| 维度查找    | 索引查找  |  DataArray语法                                |  Dataset 语法                       |\n",
    "| ----------- | --------- |---------------------------------------------- | ----------------------------------- |\n",
    "| `位置`      | 使用整数  |  da[:, 0]                                     | 无法访问                            |\n",
    "| `位置`      | 使用标签  |  da.loc[:, \"IA\"]                              | 无法访问                            |\n",
    "| `名称`      | 使用整数  |  **da.isel(space=0)** 或da[dict(space=0)]          | **ds.isel(space=0)** 或ds[dict(space=0)] |\n",
    "| `名称`      | 使用标签  |  **da.sel(space='IA')** 或da.loc[dict(space='IA')] | **ds.sel(space='IA')** 或ds.loc[dict(space='IA')]|\n"
   ]
  },
  {
   "cell_type": "markdown",
   "id": "b44a2a6b-a003-44fc-92e4-f970d496344b",
   "metadata": {
    "tags": []
   },
   "source": [
    "<div class=\"section\" id=\"indexing-rules\">\n",
    "<span id=\"id12\"></span><h3>索引规则<a class=\"headerlink\" href=\"#indexing-rules\" title=\"Permalink to this headline\"></a></h3>\n",
    "<p>这里我们描述xarray用于矢量化索引的完整规则。注意，这是为了解释：为了提高效率和支持各种后端，实际实现是不同的。</p>\n",
    "<ol class=\"arabic simple\" start=\"0\">\n",
    "<li><p>（仅适用于基于标签的索引。）从相应的pandas.Index沿每个维度查找位置索引。 <a class=\"reference external\" href=\"https://pandas.pydata.org/pandas-docs/stable/reference/api/pandas.Index.html#pandas.Index\" title=\"(in pandas v1.2.5)\"><code class=\"xref py py-class docutils literal notranslate\"><span class=\"pre\">pandas.Index</span></code></a>.</p></li>\n",
    "<li><p>完整的切片对象 <code class=\"docutils literal notranslate\"><span class=\"pre\">:</span></code> 在没有索引器的情况下为每个维度插入。</p></li>\n",
    "<li><p><code class=\"docutils literal notranslate\"><span class=\"pre\">切片</span></code> 对象转换为数组, 由\n",
    "<code class=\"docutils literal notranslate\"><span class=\"pre\">np.arange(*slice.indices(...))</span></code>给出.</p></li>\n",
    "<li><p>假设没有维度的数组索引器的维度名称，例如np.ndarray和list，\n",
    "<code class=\"docutils literal notranslate\"><span class=\"pre\">np.ndarray</span></code> and <code class=\"docutils literal notranslate\"><span class=\"pre\">list</span></code>, 来自要索引的维度。例如, <code class=\"docutils literal notranslate\"><span class=\"pre\">v.isel(x=[0,</span> <span class=\"pre\">1])</span></code> 被理解为\n",
    "<code class=\"docutils literal notranslate\"><span class=\"pre\">v.isel(x=xr.DataArray([0,</span> <span class=\"pre\">1],</span> <span class=\"pre\">dims=['x']))</span></code>.</p></li>\n",
    "<li><p>对于 <code class=\"docutils literal notranslate\"><span class=\"pre\">Dataset</span></code> 或 <code class=\"docutils literal notranslate\"><span class=\"pre\">DataArray</span></code> （数组及其坐标）中的每个变量:</p>\n",
    "<ol class=\"loweralpha simple\">\n",
    "<li><p>基于维度名称广播所有相关索引器（有关详细信息，请参见按维度名称广播）。</p></li>\n",
    "<li><p>使用NumPy的高级索引规则，由广播索引器对下划线数组进行索引。</p></li>\n",
    "</ol>\n",
    "</li>\n",
    "<li><p>如果任何索引器DataArray具有坐标，但不存在同名坐标，请将它们附加到索引对象。</p></li>\n",
    "</ol>\n",
    "</div>"
   ]
  },
  {
   "cell_type": "markdown",
   "id": "cd84d00c-eca1-432c-9399-f16fb030579e",
   "metadata": {
    "tags": []
   },
   "source": [
    "### 位置索引"
   ]
  },
  {
   "cell_type": "markdown",
   "id": "0a6021e9-e18a-43af-8739-d1f93ce1da6e",
   "metadata": {},
   "source": [
    "<img src=\"pics/xarray/多维数组-T-time.png\" width=100%/>"
   ]
  },
  {
   "cell_type": "code",
   "execution_count": null,
   "id": "25062f16-f855-49f9-9423-27049cb9aefb",
   "metadata": {
    "tags": []
   },
   "outputs": [],
   "source": [
    "# 一共有4个维度，4个axis轴，顺序为time、level、latitude、longitude\n",
    "(ds.t[ :, 2, 120, 200] - 273.15).plot() #从轴1（time）选取所有时间，轴2（level）选取第3个，轴3（latitude）选取第120个,轴4（longitude）选取第200个"
   ]
  },
  {
   "cell_type": "markdown",
   "id": "0ef6e77e-c028-438e-b6b8-1c070ebb25a8",
   "metadata": {},
   "source": [
    "<img src=\"pics/xarray/多维数组-T-time0+500.png\" width=100%/>"
   ]
  },
  {
   "cell_type": "code",
   "execution_count": null,
   "id": "83ab28c8-01df-4c0a-b531-5c7cbbb5690b",
   "metadata": {
    "tags": []
   },
   "outputs": [],
   "source": [
    "# 得到二维数据\n",
    "# 一共有4个维度，4个axis轴，顺序为time、level、latitude、longitude\n",
    "ds.t[0,2] #从轴1（time）选取第一个时间2011年1月，轴2（level）选取第3个500hPa"
   ]
  },
  {
   "cell_type": "code",
   "execution_count": null,
   "id": "ab30bd06-a096-4f4f-8937-8c4d7080ac1e",
   "metadata": {
    "tags": []
   },
   "outputs": [],
   "source": [
    "# 绘制等值线分析\n",
    "#(ds.t[0,6,:,:]-273.15).plot.contour(levels=range(-30,30,2))\n",
    "# 绘制等值线填色分析\n",
    "(ds.t[0,6,:,:]-273.15).plot(levels=range(-30,30,1))"
   ]
  },
  {
   "cell_type": "markdown",
   "id": "7b5816de-08c7-49d4-9c52-9926d3d14fd7",
   "metadata": {},
   "source": [
    "### 维度索引"
   ]
  },
  {
   "cell_type": "code",
   "execution_count": null,
   "id": "be8a80dd-1d6b-489b-ac84-dde4a334353a",
   "metadata": {
    "tags": []
   },
   "outputs": [],
   "source": [
    "(ds.t.isel(time=0,level=6,latitude=40)-273.15).plot()"
   ]
  },
  {
   "cell_type": "markdown",
   "id": "76c6967e-ee4a-49d1-b95a-8af89dd2ca92",
   "metadata": {},
   "source": [
    "<div class=\"alert alert-block alert-warning\">\n",
    "isel()是index select的意思：按照index进行选择。<br/>\n",
    "    所以这里的latitude=40，其实是第41个索引，也就是70-40*0.25＝60°N<br/>\n",
    "    本质上还是和Numpy的index索引一样\n",
    "</div>"
   ]
  },
  {
   "cell_type": "code",
   "execution_count": null,
   "id": "6e2cb35f-9213-4810-9f47-9994dcbcb367",
   "metadata": {
    "tags": []
   },
   "outputs": [],
   "source": [
    "(ds.t.loc[dict(time=\"2011-01\", level=1000, latitude=40)]-273.15).plot()"
   ]
  },
  {
   "cell_type": "code",
   "execution_count": null,
   "id": "8e7fd91f-7d2b-4a74-832f-df2a049e1330",
   "metadata": {
    "tags": []
   },
   "outputs": [],
   "source": [
    "(ds.t.sel(time=\"2011-01\", level=1000, latitude=40)-273.15).plot()"
   ]
  },
  {
   "cell_type": "markdown",
   "id": "50669a0b-a90a-491a-8932-018c225a1ac1",
   "metadata": {
    "tags": []
   },
   "source": [
    "<div class=\"alert alert-block alert-warning\">\n",
    "    sel()是select的意思：按照标签进行选择<br/>\n",
    "    用户已知经度、纬度、层次、时间，可以直接快速找到 `最直观` 的coords对应的数据（要哪找哪）\n",
    "    </div>"
   ]
  },
  {
   "cell_type": "code",
   "execution_count": null,
   "id": "89e49d53-477d-489d-9911-229c173ae6aa",
   "metadata": {
    "tags": []
   },
   "outputs": [],
   "source": [
    "# 维度切片\n",
    "ds.sel(time=slice(\"2019-05\", \"2020-07\"))"
   ]
  },
  {
   "cell_type": "markdown",
   "id": "5937b458-1f62-4f52-9219-6ec29ad7f9c9",
   "metadata": {
    "tags": []
   },
   "source": [
    "---\n",
    "与numpy和pandas一样，xarray支持以矢量化方式同时索引许多数组元素："
   ]
  },
  {
   "cell_type": "markdown",
   "id": "195c9a85-c100-4875-8f64-1848ea2f2205",
   "metadata": {
    "tags": []
   },
   "source": [
    "### 临近索引"
   ]
  },
  {
   "cell_type": "code",
   "execution_count": null,
   "id": "c3fe05fa-16ef-4a40-99c9-d322e6077b61",
   "metadata": {
    "tags": []
   },
   "outputs": [],
   "source": [
    "ds.sel(latitude=38.5, longitude=115.98, method=\"nearest\")"
   ]
  },
  {
   "cell_type": "code",
   "execution_count": null,
   "id": "eba253c2-2ceb-453b-a24a-d541f646eabc",
   "metadata": {
    "tags": []
   },
   "outputs": [],
   "source": [
    "# 生成截面坐标 generate a coordinates for a transect of points\n",
    "lat_points = xr.DataArray([10, 20, 30], dims=\"points\")\n",
    "lon_points = xr.DataArray([100, 110, 120], dims=\"points\")\n",
    "lat_points"
   ]
  },
  {
   "cell_type": "code",
   "execution_count": null,
   "id": "5da081ac-0d87-4212-9d7e-26cd447ec301",
   "metadata": {
    "tags": []
   },
   "outputs": [],
   "source": [
    "lon_points"
   ]
  },
  {
   "cell_type": "code",
   "execution_count": null,
   "id": "fef6fe9d-685d-4686-ad9f-cc020d86f393",
   "metadata": {
    "tags": []
   },
   "outputs": [],
   "source": [
    "# 沿着截面进行临近选择 nearest neighbor selection along the transect\n",
    "(ds.t.sel(level=1000,latitude=lat_points, longitude=lon_points)-273.15).plot.line(x='time')"
   ]
  },
  {
   "cell_type": "markdown",
   "id": "651a3b08-cf35-4a5a-8b64-7ebbe51f6d2b",
   "metadata": {},
   "source": [
    "### 使用`where()`索引\n"
   ]
  },
  {
   "cell_type": "code",
   "execution_count": null,
   "id": "a9f66e3b-c569-4c02-8dba-90f96509ef65",
   "metadata": {
    "tags": []
   },
   "outputs": [],
   "source": [
    "# 查找高温值\n",
    "ds.t.where(ds.t>273.15+35).sel(level=1000,time=\"2019-07\").plot()\n",
    "# 替换空值 Let's replace the missing values (nan) with some placeholder"
   ]
  },
  {
   "cell_type": "markdown",
   "id": "787159c4-e3b3-47c6-8f45-6665ca44e21c",
   "metadata": {},
   "source": [
    "# 插值"
   ]
  },
  {
   "cell_type": "markdown",
   "id": "d81c76c7-1649-42f0-8396-31ed0038dde2",
   "metadata": {},
   "source": [
    "xarray提供了灵活的插值例程，它与我们的索引具有类似的接口。interp需要安装scipy。"
   ]
  },
  {
   "cell_type": "markdown",
   "id": "244abafa-ea10-45bd-897e-7e4651a8ab1f",
   "metadata": {},
   "source": [
    "## 标量和一维插值\n",
    "对DataArray进行插值 与 对它进行标签检索很像。"
   ]
  },
  {
   "cell_type": "code",
   "execution_count": null,
   "id": "434ba92b-66c2-4c9c-a7ec-f4888ba1178d",
   "metadata": {
    "tags": []
   },
   "outputs": [],
   "source": [
    "#2020年9月高度场\n",
    "ds.z.sel(time=\"2020-09-01\",level=500).plot.contour(levels=range(50000,60000,400))\n",
    "#2020年10月高度场\n",
    "ds.z.sel(time=\"2020-10-01\",level=500).plot.contour(levels=range(50000,60000,400),colors='k')"
   ]
  },
  {
   "cell_type": "code",
   "execution_count": null,
   "id": "e237367a-8b9e-43ee-9192-6a6996b6a353",
   "metadata": {
    "tags": []
   },
   "outputs": [],
   "source": [
    "#内插得到9月15日的高度场\n",
    "ds.z.sel(level=500).interp(time=\"2020-09-15\").plot.contour(levels=range(50000,60000,400))\n",
    "#内插得到9月2日的高度场\n",
    "#ds.z.sel(level=500).interp(time=\"2020-09-02\").plot.contour(levels=range(50000,60000,400))"
   ]
  },
  {
   "cell_type": "code",
   "execution_count": null,
   "id": "0a6b44d0-d0f6-452a-af9b-82a5a102cf8a",
   "metadata": {
    "tags": []
   },
   "outputs": [],
   "source": [
    "#内插得到9月15日的高度场，采用临近插值【只是选定，而非“插值”】\n",
    "'''\n",
    "DataArray.interp(coords=None, method='linear', assume_sorted=False, kwargs=None, **coords_kwargs)\n",
    "    {“linear”, “nearest”} for multidimensional array,\n",
    "    {“linear”, “nearest”, “zero”, “slinear”, “quadratic”, “cubic”} for 1-dimensional array.\n",
    "'''\n",
    "ds.z.sel(level=500).interp(time=\"2020-09-15\", method=\"nearest\").plot.contour(levels=range(50000,60000,400))"
   ]
  },
  {
   "cell_type": "code",
   "execution_count": null,
   "id": "8a749fb9-ec45-47b1-8293-8bddd9bfe396",
   "metadata": {
    "tags": []
   },
   "outputs": [],
   "source": [
    "#插值得到2020年10月的 *800hPa*温度场\n",
    "ds.t.sel(time=\"2020-10\").interp(level=800).plot()"
   ]
  },
  {
   "cell_type": "markdown",
   "id": "4d99530c-ae15-4caa-a1f0-fba027391a87",
   "metadata": {},
   "source": [
    "## 多维插值\n",
    "与 `sel()` 一样，interp()接受多个坐标。在这种情况下，执行多维插值"
   ]
  },
  {
   "cell_type": "code",
   "execution_count": null,
   "id": "54da2290-8245-40dd-ba9f-69338ac2c93a",
   "metadata": {
    "tags": []
   },
   "outputs": [],
   "source": [
    "ds.t.interp( time=\"2020-09-15\", level=800).plot()"
   ]
  },
  {
   "cell_type": "markdown",
   "id": "4628afa2-1dbe-40e5-9165-b96fbc5a51b9",
   "metadata": {},
   "source": [
    "## 高级插值\n",
    "`interp()`接受类似于`sel()`的`DataArray`，这使我们能够进行更高级的插值。根据传递给`interp()`的新坐标的尺寸，确定结果的尺寸。\n",
    "例如，如果要沿特定维度内插二维数组，如下图所示，可以传递两个具有公共维度的一维数组数据作为新坐标。"
   ]
  },
  {
   "cell_type": "code",
   "execution_count": null,
   "id": "49d73c07-6ac1-4ff2-9cd1-a66f17357c41",
   "metadata": {
    "tags": []
   },
   "outputs": [],
   "source": [
    "# 索引2020年9月1日的各层温度场\n",
    "t=ds.t.sel(time='2020-09-01')-273.15\n",
    "t"
   ]
  },
  {
   "cell_type": "code",
   "execution_count": null,
   "id": "3463d163-3aaa-4b70-b97e-912d074bd3b3",
   "metadata": {
    "tags": []
   },
   "outputs": [],
   "source": [
    "#找到三个经纬度点上的数据，分别取值\n",
    "lons = xr.DataArray([100,110,120],dims='z')\n",
    "lats = xr.DataArray([40,50,60],dims='z')\n",
    "\n",
    "t.sel( longitude =lons, latitude=lats).plot()"
   ]
  },
  {
   "cell_type": "markdown",
   "id": "ba32a2a8-2005-463e-953a-1c452a9123dc",
   "metadata": {
    "tags": []
   },
   "source": [
    "<img src=\"pics/xarray/advanced_selection_interpolation.svg\" align=\"center\" width=\"45%\">"
   ]
  },
  {
   "cell_type": "code",
   "execution_count": null,
   "id": "644b8879-b405-484f-b725-ea4fa0b09603",
   "metadata": {
    "tags": []
   },
   "outputs": [],
   "source": [
    "lons = xr.DataArray([100.1,111.1,112.1])\n",
    "lats = xr.DataArray([40.1,41.1,42.1])\n",
    "#内插得到 非原有网格上 经纬度点的数据\n",
    "t.interp( longitude =lons, latitude=lats).plot.contourf()"
   ]
  },
  {
   "cell_type": "code",
   "execution_count": null,
   "id": "aa0daf16-989f-4aac-8aac-211b4851a36d",
   "metadata": {
    "tags": []
   },
   "outputs": [],
   "source": [
    "#沿着任意经纬度点进行插值\n",
    "import numpy as np\n",
    "lons = xr.DataArray(np.arange(100.1,120.1,0.1))\n",
    "lats = xr.DataArray(np.arange(40.1,60.1,0.1))\n",
    "fig, ax = plt.subplots(figsize=(10, 4))\n",
    "dsi = ds.r.sel(time='2020-09-01').interp( longitude =lons, latitude=lats)\n",
    "dsi.plot.contourf(ax=ax)\n",
    "ax.invert_yaxis()"
   ]
  },
  {
   "cell_type": "code",
   "execution_count": null,
   "id": "f8a41623-cc39-4a8d-a514-52111d66d4e2",
   "metadata": {},
   "outputs": [],
   "source": [
    "# 水平插值  提高“精度”\n",
    "plt.rcParams['font.sans-serif'] = ['SimHei']  # 用来正常显示中文标签\n",
    "plt.rcParams['axes.unicode_minus'] = False  # 用来正常显示负号\n",
    "fig, axes = plt.subplots(ncols=2, figsize=(10, 4))\n",
    "\n",
    "t.sel(level=850).plot(ax=axes[0],levels=range(0,25,2))\n",
    "axes[0].set_title(\"原始数据\")\n",
    "axes[0].set_xlim(70,100)\n",
    "axes[0].set_ylim(28,40)\n",
    "\n",
    "new_lon = np.linspace(ds.longitude[0], ds.longitude[-1], ds.dims[\"longitude\"] * 4) #！！！网格加密4倍\n",
    "new_lat = np.linspace(ds.latitude[0], ds.latitude[-1], ds.dims[\"latitude\"] * 4)    #！！！网格加密4倍\n",
    "dsi = t.sel(level=850).interp(latitude=new_lat, longitude=new_lon)\n",
    "dsi.plot(ax=axes[1],levels=range(0,25,2))\n",
    "axes[1].set_title(\"插值数据\")\n",
    "axes[1].set_xlim(70,100)\n",
    "axes[1].set_ylim(28,40)"
   ]
  },
  {
   "cell_type": "markdown",
   "id": "58a3f096-5d39-488b-b1cf-7a8548d99ce2",
   "metadata": {},
   "source": [
    "*高级可以用来重新映射数据到新的坐标。(参见官方示例……)*<br/>\n",
    "[<img src=\"pics/xarray/interpolation_sample4.png\" align=\"center\" width=\"40%\">](http://xarray.pydata.org/en/stable/user-guide/interpolation.html?highlight=interpolation)\n",
    "\n",
    "```python\n",
    "# new coordinate\n",
    "In [53]: x = np.linspace(240, 300, 100)\n",
    "In [54]: z = np.linspace(20, 70, 100)\n",
    "# relation between new and original coordinates\n",
    "In [55]: lat = xr.DataArray(z, dims=[\"z\"], coords={\"z\": z})\n",
    "In [56]: lon = xr.DataArray(\n",
    "   ....:     (x[:, np.newaxis] - 270) / np.cos(z * np.pi / 180) + 270,\n",
    "   ....:     dims=[\"x\", \"z\"],\n",
    "   ....:     coords={\"x\": x, \"z\": z},\n",
    "   ....: )\n",
    "   ....: \n",
    "In [57]: fig, axes = plt.subplots(ncols=2, figsize=(10, 4))\n",
    "In [58]: ds.air.plot(ax=axes[0])\n",
    "Out[58]: <matplotlib.collections.QuadMesh at 0x7f383f100f70>\n",
    "# draw the new coordinate on the original coordinates.\n",
    "In [59]: for idx in [0, 33, 66, 99]:\n",
    "   ....:     axes[0].plot(lon.isel(x=idx), lat, \"--k\")\n",
    "   ....: \n",
    "In [60]: for idx in [0, 33, 66, 99]:\n",
    "   ....:     axes[0].plot(*xr.broadcast(lon.isel(z=idx), lat.isel(z=idx)), \"--k\")\n",
    "   ....: \n",
    "In [61]: axes[0].set_title(\"Raw data\")\n",
    "Out[61]: Text(0.5, 1.0, 'Raw data')\n",
    "In [62]: dsi = ds.interp(lon=lon, lat=lat)\n",
    "In [63]: dsi.air.plot(ax=axes[1])\n",
    "Out[63]: <matplotlib.collections.QuadMesh at 0x7f383ee6ba30>\n",
    "In [64]: axes[1].set_title(\"Remapped data\")\n",
    "Out[64]: Text(0.5, 1.0, 'Remapped data')\n",
    "```"
   ]
  },
  {
   "cell_type": "markdown",
   "id": "17e24765-c3b9-4a75-ab3a-ca18469b6e59",
   "metadata": {},
   "source": [
    "# 计算Computation"
   ]
  },
  {
   "cell_type": "markdown",
   "id": "3e375827-5cee-43a3-949b-0dae2c2a1118",
   "metadata": {},
   "source": [
    "## 简单统计\n",
    "聚合方法已更新为采用dim参数而不是axis。这就为沿特定维度应用的聚合方法提供了非常直观的语法："
   ]
  },
  {
   "cell_type": "code",
   "execution_count": null,
   "id": "af664c9a-f1ee-4752-856c-1ebde262eb19",
   "metadata": {
    "tags": []
   },
   "outputs": [],
   "source": [
    "ds.w.sel(time=\"2020-09-01\").sum(dim=\"level\").plot()"
   ]
  },
  {
   "cell_type": "code",
   "execution_count": null,
   "id": "6bb439c7-98a9-4c2e-ad24-983c37b6a498",
   "metadata": {
    "tags": []
   },
   "outputs": [],
   "source": [
    "t.sel(level=850).sum()#求和"
   ]
  },
  {
   "cell_type": "code",
   "execution_count": null,
   "id": "c3a7a554-ad9f-4fff-9f3d-baf1f278a8ee",
   "metadata": {
    "tags": []
   },
   "outputs": [],
   "source": [
    "t.sel(level=850).mean()#求均值"
   ]
  },
  {
   "cell_type": "code",
   "execution_count": null,
   "id": "f6ef1df2-f81f-406a-b2f0-70e6a775c2b1",
   "metadata": {
    "tags": []
   },
   "outputs": [],
   "source": [
    "t.sel(level=850).min()#最小值，最大值max()"
   ]
  },
  {
   "cell_type": "code",
   "execution_count": null,
   "id": "f6d13055-97e4-4751-ab32-2ebf82abc0f3",
   "metadata": {
    "tags": []
   },
   "outputs": [],
   "source": [
    "t.sel(level=850).std()#标准差"
   ]
  },
  {
   "cell_type": "code",
   "execution_count": null,
   "id": "29957273-5098-446a-a31e-951f1b49725c",
   "metadata": {},
   "outputs": [],
   "source": [
    "tSeries = ds.t.sel(level=1000,latitude=40,longitude=120)-273.15\n",
    "#求滑动平均\n",
    "a = tSeries.rolling(time=9, center=True).mean() \n",
    "plt.plot(a)\n",
    "plt.plot(tSeries)"
   ]
  },
  {
   "cell_type": "markdown",
   "id": "61a1fd69-4d66-43ba-9211-d7ad5b2287e8",
   "metadata": {},
   "source": [
    "*DataArray可以进行权重计算` DataArray.weighted() `*"
   ]
  },
  {
   "cell_type": "markdown",
   "id": "fc0959fb-0495-4760-bed7-efdb2a67e50e",
   "metadata": {},
   "source": [
    "## *求导*\n"
   ]
  },
  {
   "cell_type": "code",
   "execution_count": null,
   "id": "162f4400-3e35-4a72-9c6d-fda63b21d04d",
   "metadata": {},
   "outputs": [],
   "source": [
    "import numpy as np\n",
    "# 我们将添加一个具有适当属性的梯度场\n",
    "ds[\"dTdx\"] = ds.t.differentiate(\"longitude\") / 110e3 / np.cos(ds.latitude * np.pi / 180)\n",
    "ds[\"dTdy\"] = ds.t.differentiate(\"latitude\") / 105e3\n",
    "ds.dTdx.attrs = {\"long_name\": \"$∂T/∂x$\", \"units\": \"°C/m\"}\n",
    "ds.dTdy.attrs = {\"long_name\": \"$∂T/∂y$\", \"units\": \"°C/m\"}\n",
    "\n",
    "ds"
   ]
  },
  {
   "cell_type": "code",
   "execution_count": null,
   "id": "4eb8105e-2053-45e1-a2b0-1e9b53956278",
   "metadata": {},
   "outputs": [],
   "source": [
    "t.sel(level=850).differentiate(\"latitude\").plot(levels=range(-3,2,1))"
   ]
  },
  {
   "cell_type": "code",
   "execution_count": null,
   "id": "358c96be-bb5b-4175-ab44-05353608cf63",
   "metadata": {},
   "outputs": [],
   "source": [
    "t.sel(level=850).plot(levels=range(-30,20,1))"
   ]
  },
  {
   "cell_type": "code",
   "execution_count": null,
   "id": "a51a5e83-6797-41eb-b86a-7d234ff248d4",
   "metadata": {},
   "outputs": [],
   "source": [
    "re = np.gradient(t.sel(level=850))\n",
    "grad = np.sqrt(np.sum(np.square(re), axis=0))\n",
    "plt.contourf(grad,levels=np.arange(0.1,3,0.1))"
   ]
  },
  {
   "cell_type": "markdown",
   "id": "6a90099e-31eb-4373-bada-68b6fe825e9e",
   "metadata": {},
   "source": [
    "## *缺测值*\n",
    "像Pandas一样 `isnull(), notnull(), count(), dropna(), fillna(), ffill(),bfill()` 方法用于处理缺测数据\n",
    "\n",
    "与Pandas一样，同样使用`np.nan`（not-a-number）代表缺测值。"
   ]
  },
  {
   "cell_type": "markdown",
   "id": "0d1ac361-12ef-47f7-9bad-ac60b3c4692e",
   "metadata": {},
   "source": [
    "# GroupBy:拆分-应用-结合\n",
    "xarray使用与pandas相同的API支持“group by”操作，以实现split-apply-combine策略：\n",
    "\n",
    "* 将数据拆分为多个独立组。\n",
    "* 对每组应用一些函数。\n",
    "* 将组合并回单个数据对象。\n",
    "\n",
    "分组操作对`Dataset`和`DataArray`对象都起作用。尽管最近实现了对多维变量分组的支持，但大多数示例都关注于通过单个一维变量分组。请注意，对于一维数据，依赖pandas实现相同的管道通常更快。"
   ]
  },
  {
   "cell_type": "code",
   "execution_count": null,
   "id": "c9fb2ff7-cec4-4161-948e-ad8aef11c4b2",
   "metadata": {},
   "outputs": [],
   "source": [
    "t.groupby('level')"
   ]
  },
  {
   "cell_type": "code",
   "execution_count": null,
   "id": "280d229e-68c4-44b4-aa3f-bc11d4865c8d",
   "metadata": {},
   "outputs": [],
   "source": [
    "t.groupby('level').groups"
   ]
  },
  {
   "cell_type": "code",
   "execution_count": null,
   "id": "5fd3c33e-c81c-4725-bf6a-fb4bda04f286",
   "metadata": {
    "tags": []
   },
   "outputs": [],
   "source": [
    "list(t.groupby('level'))"
   ]
  },
  {
   "cell_type": "code",
   "execution_count": null,
   "id": "c0304126-dbbc-422f-bcd0-0acbc32a4162",
   "metadata": {
    "tags": []
   },
   "outputs": [],
   "source": [
    "t.groupby('level')[850]"
   ]
  },
  {
   "cell_type": "code",
   "execution_count": null,
   "id": "a4b550c5-5de2-42cd-baf3-22a5a6cbebe2",
   "metadata": {
    "tags": []
   },
   "outputs": [],
   "source": [
    "#对时间求平均\n",
    "ave = (ds.z.groupby('level').mean(dim='time')).sel(level=500)\n",
    "#std = (ds.z.groupby('level').std(dim='time')).sel(level=500)\n",
    "fig, axes = plt.subplots(ncols=3, figsize=(10, 4))\n",
    "\n",
    "#画出平均场\n",
    "cs0 = axes[0].contour(ave[::-1],levels=range(50000,60000,400))\n",
    "axes[0].clabel(cs0,cs0.levels,inline=True)\n",
    "\n",
    "#画出2020年9月场\n",
    "cs1 = axes[1].contour(ds.z.sel(level=500,time=\"2020-09-01\")[::-1],\n",
    "                levels=range(50000,60000,400))\n",
    "axes[1].clabel(cs1,cs1.levels,inline=True)\n",
    "\n",
    "# 画出距平场\n",
    "cs2 = axes[2].contour((ds.z.sel(level=500,time=\"2020-09-01\")-ave)[::-1])\n",
    "axes[2].clabel(cs2,cs2.levels,inline=True)"
   ]
  },
  {
   "cell_type": "code",
   "execution_count": null,
   "id": "2a54cc56-678a-41f6-8a6b-7061a8e4ec1a",
   "metadata": {},
   "outputs": [],
   "source": [
    "# 季节分组\n",
    "ds.groupby(\"time.season\")"
   ]
  },
  {
   "cell_type": "code",
   "execution_count": null,
   "id": "43ecd529-0067-471f-b4cf-eb891ab3645e",
   "metadata": {
    "tags": []
   },
   "outputs": [],
   "source": [
    "# 季节平均\n",
    "seasonal_mean = ds.groupby(\"time.season\").mean()\n",
    "seasonal_mean"
   ]
  },
  {
   "cell_type": "code",
   "execution_count": null,
   "id": "b35812e4-23a4-4d57-bd34-e1cea2089436",
   "metadata": {},
   "outputs": [],
   "source": [
    "seasonal_mean.t.sel(level=1000).plot(col=\"season\",robust=True)"
   ]
  },
  {
   "cell_type": "code",
   "execution_count": null,
   "id": "d38f0e4e-85ea-4311-8761-519ca60b26d3",
   "metadata": {},
   "outputs": [],
   "source": [
    "# resample到年平均\n",
    "ds.resample(time=\"Y\").mean()\n",
    "# resample到两个月\n",
    "# ds.r.resample(time=\"2MS\").mean()"
   ]
  },
  {
   "cell_type": "markdown",
   "id": "76c3ae29-3679-4acf-98b0-0c687ccdca40",
   "metadata": {},
   "source": [
    "# 输出文件"
   ]
  },
  {
   "cell_type": "markdown",
   "id": "6eca1190-37cc-496a-a55a-d177d5998101",
   "metadata": {},
   "source": [
    "输出nc文件"
   ]
  },
  {
   "cell_type": "code",
   "execution_count": null,
   "id": "b372cefd-21e6-4124-9897-125a2723d73b",
   "metadata": {
    "tags": []
   },
   "outputs": [],
   "source": [
    "ave.to_netcdf('data/ave.nc')"
   ]
  },
  {
   "cell_type": "code",
   "execution_count": null,
   "id": "9994c858-083d-49a1-a52a-6d30c6e6513c",
   "metadata": {},
   "outputs": [],
   "source": [
    "ds1 =xr.open_dataset('data/ave.nc')\n",
    "ds1"
   ]
  },
  {
   "cell_type": "markdown",
   "id": "4bcadf6a-0265-47bf-b242-692866f5218d",
   "metadata": {},
   "source": [
    "<font color=#FF0000>**通过cfgrib引擎，调用eccodes扩展库/插件（生成idx文件）解析GRIB数据，读取后存储在xr.DataArray数据结构中**</font>"
   ]
  },
  {
   "cell_type": "code",
   "execution_count": null,
   "id": "2cd8d98a-014b-4550-8ab1-5d1ea94ca364",
   "metadata": {
    "tags": []
   },
   "outputs": [],
   "source": [
    "# 打开grib文件\n",
    "ds_grib = xr.open_dataset(\"data/Z_NAFP_C_BABJ_20210623000000_P_CNPC-GRAPES-RMFS-FCSTER-02400.grib2\"\n",
    "                          ,engine=\"cfgrib\"\n",
    "                          ,filter_by_keys={'stepType': 'instant','typeOfLevel': 'isobaricInhPa'})\n",
    "ds_grib"
   ]
  }
 ],
 "metadata": {
  "kernelspec": {
   "display_name": "Python 3 (ipykernel)",
   "language": "python",
   "name": "python3"
  },
  "language_info": {
   "codemirror_mode": {
    "name": "ipython",
    "version": 3
   },
   "file_extension": ".py",
   "mimetype": "text/x-python",
   "name": "python",
   "nbconvert_exporter": "python",
   "pygments_lexer": "ipython3",
   "version": "3.8.11"
  },
  "toc-autonumbering": true,
  "toc-showcode": false,
  "toc-showmarkdowntxt": false,
  "toc-showtags": false
 },
 "nbformat": 4,
 "nbformat_minor": 5
}
