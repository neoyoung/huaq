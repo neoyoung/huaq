{
 "cells": [
  {
   "cell_type": "markdown",
   "id": "53f70902",
   "metadata": {},
   "source": [
    "# SciPy的使用\n",
    "\n",
    "\n",
    "- cluster       向量计算/Kmeans\n",
    "- constants      物理和数学常量\n",
    "- fftpack        傅立叶变换\n",
    "- integrate      积分\n",
    "- interpolate     插值\n",
    "- io            数据输入输出\n",
    "- linalg         线性代数\n",
    "- ndimage N     维图像包\n",
    "- Odr         正交距离回归\n",
    "- optimaize   优化\n",
    "- signal      信号处理\n",
    "- sparse     稀疏矩阵\n",
    "- spatial    空间数据结构和算法\n",
    "- special    一些特殊的数学函数\n",
    "- stats     统计"
   ]
  },
  {
   "cell_type": "code",
   "execution_count": null,
   "id": "f3a78f9e",
   "metadata": {},
   "outputs": [],
   "source": []
  },
  {
   "cell_type": "code",
   "execution_count": null,
   "id": "650032f2",
   "metadata": {},
   "outputs": [],
   "source": []
  },
  {
   "cell_type": "code",
   "execution_count": null,
   "id": "ba03b350",
   "metadata": {},
   "outputs": [],
   "source": []
  },
  {
   "cell_type": "code",
   "execution_count": null,
   "id": "79afe490",
   "metadata": {},
   "outputs": [],
   "source": []
  },
  {
   "cell_type": "code",
   "execution_count": null,
   "id": "012dccc7",
   "metadata": {},
   "outputs": [],
   "source": []
  },
  {
   "cell_type": "code",
   "execution_count": null,
   "id": "3d62aff0",
   "metadata": {},
   "outputs": [],
   "source": []
  },
  {
   "cell_type": "code",
   "execution_count": null,
   "id": "c5de908f",
   "metadata": {},
   "outputs": [],
   "source": []
  }
 ],
 "metadata": {
  "kernelspec": {
   "display_name": "Python 3",
   "language": "python",
   "name": "python3"
  },
  "language_info": {
   "codemirror_mode": {
    "name": "ipython",
    "version": 3
   },
   "file_extension": ".py",
   "mimetype": "text/x-python",
   "name": "python",
   "nbconvert_exporter": "python",
   "pygments_lexer": "ipython3",
   "version": "3.8.8"
  }
 },
 "nbformat": 4,
 "nbformat_minor": 5
}
